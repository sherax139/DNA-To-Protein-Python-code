{
  "nbformat": 4,
  "nbformat_minor": 0,
  "metadata": {
    "colab": {
      "name": "gnn-day1.ipynb",
      "provenance": [],
      "collapsed_sections": [],
      "authorship_tag": "ABX9TyOTomAkhduPLeFcSek9byMg",
      "include_colab_link": true
    },
    "kernelspec": {
      "name": "python3",
      "display_name": "Python 3"
    },
    "language_info": {
      "name": "python"
    }
  },
  "cells": [
    {
      "cell_type": "markdown",
      "metadata": {
        "id": "view-in-github",
        "colab_type": "text"
      },
      "source": [
        "<a href=\"https://colab.research.google.com/github/sherax139/DNA-To-Protein-Python-code/blob/main/Graph%20Neural%20Networks.ipynb\" target=\"_parent\"><img src=\"https://colab.research.google.com/assets/colab-badge.svg\" alt=\"Open In Colab\"/></a>"
      ]
    },
    {
      "cell_type": "code",
      "execution_count": null,
      "metadata": {
        "id": "8Ri0lrJJOowc"
      },
      "outputs": [],
      "source": [
        "import networkx as nx\n",
        "import numpy as np\n",
        "import torch \n",
        "from sklearn.preprocessing import StandardScaler"
      ]
    },
    {
      "cell_type": "code",
      "source": [
        "graph = nx.karate_club_graph()"
      ],
      "metadata": {
        "id": "aHlewvaPPTxx"
      },
      "execution_count": null,
      "outputs": []
    },
    {
      "cell_type": "code",
      "source": [
        "graph.edges"
      ],
      "metadata": {
        "id": "VVPYHylYP2W7"
      },
      "execution_count": null,
      "outputs": []
    },
    {
      "cell_type": "code",
      "source": [
        "labels = np.asarray([graph.nodes[i]['club'] != 'Mr. Hi' for i in graph.nodes]).astype(np.int64)"
      ],
      "metadata": {
        "id": "Z-ftnCdmPoXK"
      },
      "execution_count": null,
      "outputs": []
    },
    {
      "cell_type": "code",
      "source": [
        "labels.dtype"
      ],
      "metadata": {
        "id": "-N83iuc6Ptpn"
      },
      "execution_count": null,
      "outputs": []
    },
    {
      "cell_type": "code",
      "source": [
        "adj = nx.to_scipy_sparse_matrix(graph).tocoo()"
      ],
      "metadata": {
        "id": "fBSp86_8RFIW"
      },
      "execution_count": null,
      "outputs": []
    },
    {
      "cell_type": "code",
      "source": [
        "adj.shape"
      ],
      "metadata": {
        "id": "dGror0j7VMAe"
      },
      "execution_count": null,
      "outputs": []
    },
    {
      "cell_type": "code",
      "source": [
        ""
      ],
      "metadata": {
        "id": "mlyfbjaSVONK"
      },
      "execution_count": null,
      "outputs": []
    },
    {
      "cell_type": "code",
      "source": [
        "row = torch.from_numpy(adj.row.astype(np.int64)).to(torch.long)"
      ],
      "metadata": {
        "id": "m7_FjVvURTp2"
      },
      "execution_count": null,
      "outputs": []
    },
    {
      "cell_type": "code",
      "source": [
        "row"
      ],
      "metadata": {
        "id": "GBtftF0SRUv5"
      },
      "execution_count": null,
      "outputs": []
    },
    {
      "cell_type": "code",
      "source": [
        "labels.shape"
      ],
      "metadata": {
        "id": "E29-iRZlRwiz"
      },
      "execution_count": null,
      "outputs": []
    },
    {
      "cell_type": "code",
      "source": [
        "col = torch.from_numpy(adj.col.astype(np.int64)).to(torch.long)"
      ],
      "metadata": {
        "id": "kYgwRuBxSXiS"
      },
      "execution_count": null,
      "outputs": []
    },
    {
      "cell_type": "code",
      "source": [
        "col"
      ],
      "metadata": {
        "id": "prIkUaomTQ8L"
      },
      "execution_count": null,
      "outputs": []
    },
    {
      "cell_type": "code",
      "source": [
        "edge_index = torch.stack([row, col], dim= 0)"
      ],
      "metadata": {
        "id": "4VSmSKvnUIlf"
      },
      "execution_count": null,
      "outputs": []
    },
    {
      "cell_type": "code",
      "source": [
        "edge_index\n"
      ],
      "metadata": {
        "id": "32OvbndqUixX"
      },
      "execution_count": null,
      "outputs": []
    },
    {
      "cell_type": "code",
      "source": [
        "edge_index.shape"
      ],
      "metadata": {
        "id": "fM61uPNtU1Ud"
      },
      "execution_count": null,
      "outputs": []
    },
    {
      "cell_type": "code",
      "source": [
        "dict(graph.degree())"
      ],
      "metadata": {
        "id": "bolJvifdV00y"
      },
      "execution_count": null,
      "outputs": []
    },
    {
      "cell_type": "code",
      "source": [
        "embending = np.array(list(dict(graph.degree()).values()))"
      ],
      "metadata": {
        "id": "LJSo9JYVU5HW"
      },
      "execution_count": null,
      "outputs": []
    },
    {
      "cell_type": "code",
      "source": [
        "embending"
      ],
      "metadata": {
        "id": "718nDOD1X0MO"
      },
      "execution_count": null,
      "outputs": []
    },
    {
      "cell_type": "code",
      "source": [
        "list(graph.degree([0, 1, 2]))"
      ],
      "metadata": {
        "id": "X3DBz0XIWni0"
      },
      "execution_count": null,
      "outputs": []
    },
    {
      "cell_type": "code",
      "source": [
        "embending"
      ],
      "metadata": {
        "id": "yFpJ6F92VxIq"
      },
      "execution_count": null,
      "outputs": []
    },
    {
      "cell_type": "code",
      "source": [
        "scale = StandardScaler()"
      ],
      "metadata": {
        "id": "9uu5sdIuVzHa"
      },
      "execution_count": null,
      "outputs": []
    },
    {
      "cell_type": "code",
      "source": [
        "embending = scale.fit_transform(embending.reshape(-1, 1))"
      ],
      "metadata": {
        "id": "-453O5jpW_nj"
      },
      "execution_count": null,
      "outputs": []
    },
    {
      "cell_type": "code",
      "source": [
        "embending"
      ],
      "metadata": {
        "id": "VFdMn4PjXQjA"
      },
      "execution_count": null,
      "outputs": []
    },
    {
      "cell_type": "code",
      "source": [
        "pip install torch-scatter torch-sparse torch-cluster torch-spline-conv torch-geometric -f https://data.pyg.org/whl/torch-1.12.0+cpu.html"
      ],
      "metadata": {
        "id": "_4tWG36URoiQ"
      },
      "execution_count": null,
      "outputs": []
    },
    {
      "cell_type": "code",
      "source": [
        "import torch.nn as nn\n",
        "import torch.nn.functional as F\n",
        "from torch_geometric.nn import GCNConv"
      ],
      "metadata": {
        "id": "VrrJNu7bRGn0"
      },
      "execution_count": null,
      "outputs": []
    },
    {
      "cell_type": "code",
      "source": [
        "import pandas as pd\n",
        "from torch_geometric.data import InMemoryDataset, Data"
      ],
      "metadata": {
        "id": "UZrrTr1yT61N"
      },
      "execution_count": null,
      "outputs": []
    },
    {
      "cell_type": "code",
      "source": [
        "from sklearn.model_selection import train_test_split\n",
        "import torch_geometric.transforms as T\n",
        "\n",
        "# custom dataset\n",
        "class KarateDataset(InMemoryDataset):\n",
        "    def __init__(self, transform=None):\n",
        "        super(KarateDataset, self).__init__('.', transform, None, None)\n",
        "\n",
        "        data = Data(edge_index=edge_index)\n",
        "        \n",
        "        data.num_nodes = graph.number_of_nodes()\n",
        "        \n",
        "        # embedding \n",
        "        data.x = torch.from_numpy(embending).type(torch.float32)\n",
        "        \n",
        "        # labels\n",
        "        y = torch.from_numpy(labels).type(torch.long)\n",
        "        data.y = y.clone().detach()\n",
        "        \n",
        "        data.num_classes = 2\n",
        "\n",
        "        # splitting the data into train, validation and test\n",
        "        X_train, X_test, y_train, y_test = train_test_split(pd.Series(list(graph.nodes())), \n",
        "                                                            pd.Series(labels),\n",
        "                                                            test_size=0.30, \n",
        "                                                            random_state=42)\n",
        "        \n",
        "        n_nodes = graph.number_of_nodes()\n",
        "        \n",
        "        # create train and test masks for data\n",
        "        train_mask = torch.zeros(n_nodes, dtype=torch.bool)\n",
        "        test_mask = torch.zeros(n_nodes, dtype=torch.bool)\n",
        "        train_mask[X_train.index] = True\n",
        "        test_mask[X_test.index] = True\n",
        "        data['train_mask'] = train_mask\n",
        "        data['test_mask'] = test_mask\n",
        "\n",
        "        self.data, self.slices = self.collate([data])\n",
        "\n",
        "    def _download(self):\n",
        "        return\n",
        "\n",
        "    def _process(self):\n",
        "        return\n",
        "\n",
        "    def __repr__(self):\n",
        "        return '{}()'.format(self.__class__.__name__)\n",
        "    \n",
        "dataset = KarateDataset()\n",
        "data = dataset[0]"
      ],
      "metadata": {
        "id": "X1anTRqQTy07"
      },
      "execution_count": null,
      "outputs": []
    },
    {
      "cell_type": "code",
      "source": [
        "#GCN model with 2 layers \n",
        "class Network(torch.nn.Module):\n",
        "  def __init__(self):\n",
        "    super(Network, self).__init__()\n",
        "    self.conv1 = GCNConv(data.num_features, 16)\n",
        "    self.conv2 = GCNConv(16, int(data.num_classes))\n",
        "\n",
        "  def forward(self):\n",
        "    x, edge_index = data.x, data.edge_index\n",
        "    x = F.relu(self, conv1(x, edge_index))\n",
        "    x = F.dropout(x, training=self.training)\n",
        "    x = self.conv2(x, edge_index)\n",
        "    return F.log_softmax(x, dim = 1)\n",
        "\n",
        "\n",
        "device = torch.device('cuda' if torch.cuda.is_available() else 'cpu')\n",
        "\n",
        "data = data.to(device)\n",
        "\n",
        "model = Network().to(device)"
      ],
      "metadata": {
        "id": "su5qjhshRSR5"
      },
      "execution_count": null,
      "outputs": []
    },
    {
      "cell_type": "code",
      "source": [
        "torch.manual_seed(42)\n",
        "\n",
        "optimizer_name = \"Adam\"\n",
        "lr = 1e-1\n",
        "optimizer = getattr(torch.optim, optimizer_name)(model.parameters(), lr=lr)\n",
        "epochs = 200\n",
        "\n",
        "def train():\n",
        "  model.train()\n",
        "  optimizer.zero_grad()\n",
        "  F.nll_loss(model()[data.train_mask], data.y[data.train_mask]).backward()\n",
        "  optimizer.step()\n",
        "\n",
        "@torch.no_grad()\n",
        "def test():\n",
        "  model.eval()\n",
        "  logits = model()\n",
        "  mask1 = data['train_mask']\n",
        "  pred1 = logits[mask1].max(1)[1]\n",
        "  acc1 = pred1.eq(data.y[mask1]).sum().item() / mask1.sum().item()\n",
        "  mask = data['test_mask']\n",
        "  pred = logits[mask].max(1)[1]\n",
        "  acc = pred.eq(data.y[mask]).sum().item() / mask.sum().item()\n",
        "  return acc1,acc\n",
        "\n",
        "for epoch in range(1, epochs):\n",
        "  train()\n",
        "\n",
        "train_acc,test_acc = test()\n",
        "\n",
        "print('#' * 70)\n",
        "print('Train Accuracy: %s' %train_acc )\n",
        "print('Test Accuracy: %s' % test_acc)\n",
        "print('#' * 70)"
      ],
      "metadata": {
        "id": "YCHF45XTTMFh"
      },
      "execution_count": null,
      "outputs": []
    },
    {
      "cell_type": "code",
      "source": [
        ""
      ],
      "metadata": {
        "id": "bazF-ReWeA0V"
      },
      "execution_count": null,
      "outputs": []
    }
  ]
}